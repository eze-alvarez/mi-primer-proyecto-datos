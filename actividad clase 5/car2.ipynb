{
 "cells": [
  {
   "cell_type": "code",
   "execution_count": 1,
   "id": "752a4e79",
   "metadata": {},
   "outputs": [
    {
     "name": "stdout",
     "output_type": "stream",
     "text": [
      "<class 'pandas.core.frame.DataFrame'>\n",
      "RangeIndex: 1000 entries, 0 to 999\n",
      "Data columns (total 8 columns):\n",
      " #   Column        Non-Null Count  Dtype  \n",
      "---  ------        --------------  -----  \n",
      " 0   Make          1000 non-null   object \n",
      " 1   Model         1000 non-null   object \n",
      " 2   Year          1000 non-null   int64  \n",
      " 3   Engine Size   1000 non-null   float64\n",
      " 4   Mileage       1000 non-null   int64  \n",
      " 5   Fuel Type     1000 non-null   object \n",
      " 6   Transmission  1000 non-null   object \n",
      " 7   Price         1000 non-null   float64\n",
      "dtypes: float64(2), int64(2), object(4)\n",
      "memory usage: 62.6+ KB\n"
     ]
    }
   ],
   "source": [
    "import pandas as pd\n",
    "import numpy as np\n",
    "\n",
    "file = '2.Car_Price_Prediction.csv'\n",
    "df = pd.read_csv(file)\n",
    "\n",
    "df.info()"
   ]
  },
  {
   "cell_type": "code",
   "execution_count": 5,
   "id": "6fe82da4",
   "metadata": {},
   "outputs": [
    {
     "data": {
      "text/html": [
       "<div>\n",
       "<style scoped>\n",
       "    .dataframe tbody tr th:only-of-type {\n",
       "        vertical-align: middle;\n",
       "    }\n",
       "\n",
       "    .dataframe tbody tr th {\n",
       "        vertical-align: top;\n",
       "    }\n",
       "\n",
       "    .dataframe thead th {\n",
       "        text-align: right;\n",
       "    }\n",
       "</style>\n",
       "<table border=\"1\" class=\"dataframe\">\n",
       "  <thead>\n",
       "    <tr style=\"text-align: right;\">\n",
       "      <th></th>\n",
       "      <th>Year</th>\n",
       "      <th>Engine Size</th>\n",
       "      <th>Mileage</th>\n",
       "      <th>Price</th>\n",
       "    </tr>\n",
       "  </thead>\n",
       "  <tbody>\n",
       "    <tr>\n",
       "      <th>count</th>\n",
       "      <td>1000.000000</td>\n",
       "      <td>1000.000000</td>\n",
       "      <td>1000.00000</td>\n",
       "      <td>1000.000000</td>\n",
       "    </tr>\n",
       "    <tr>\n",
       "      <th>mean</th>\n",
       "      <td>2010.688000</td>\n",
       "      <td>2.798300</td>\n",
       "      <td>97192.48700</td>\n",
       "      <td>25136.615530</td>\n",
       "    </tr>\n",
       "    <tr>\n",
       "      <th>std</th>\n",
       "      <td>6.288577</td>\n",
       "      <td>1.024137</td>\n",
       "      <td>59447.31576</td>\n",
       "      <td>5181.401368</td>\n",
       "    </tr>\n",
       "    <tr>\n",
       "      <th>min</th>\n",
       "      <td>2000.000000</td>\n",
       "      <td>1.000000</td>\n",
       "      <td>56.00000</td>\n",
       "      <td>6704.953524</td>\n",
       "    </tr>\n",
       "    <tr>\n",
       "      <th>25%</th>\n",
       "      <td>2005.000000</td>\n",
       "      <td>1.900000</td>\n",
       "      <td>44768.75000</td>\n",
       "      <td>21587.878370</td>\n",
       "    </tr>\n",
       "    <tr>\n",
       "      <th>50%</th>\n",
       "      <td>2011.000000</td>\n",
       "      <td>2.800000</td>\n",
       "      <td>94411.50000</td>\n",
       "      <td>25189.325247</td>\n",
       "    </tr>\n",
       "    <tr>\n",
       "      <th>75%</th>\n",
       "      <td>2016.000000</td>\n",
       "      <td>3.700000</td>\n",
       "      <td>148977.75000</td>\n",
       "      <td>28806.368974</td>\n",
       "    </tr>\n",
       "    <tr>\n",
       "      <th>max</th>\n",
       "      <td>2021.000000</td>\n",
       "      <td>4.500000</td>\n",
       "      <td>199867.00000</td>\n",
       "      <td>41780.504635</td>\n",
       "    </tr>\n",
       "  </tbody>\n",
       "</table>\n",
       "</div>"
      ],
      "text/plain": [
       "              Year  Engine Size       Mileage         Price\n",
       "count  1000.000000  1000.000000    1000.00000   1000.000000\n",
       "mean   2010.688000     2.798300   97192.48700  25136.615530\n",
       "std       6.288577     1.024137   59447.31576   5181.401368\n",
       "min    2000.000000     1.000000      56.00000   6704.953524\n",
       "25%    2005.000000     1.900000   44768.75000  21587.878370\n",
       "50%    2011.000000     2.800000   94411.50000  25189.325247\n",
       "75%    2016.000000     3.700000  148977.75000  28806.368974\n",
       "max    2021.000000     4.500000  199867.00000  41780.504635"
      ]
     },
     "execution_count": 5,
     "metadata": {},
     "output_type": "execute_result"
    }
   ],
   "source": [
    "df.describe()"
   ]
  },
  {
   "cell_type": "code",
   "execution_count": 2,
   "id": "7abe7c1e",
   "metadata": {},
   "outputs": [
    {
     "data": {
      "text/plain": [
       "Transmission\n",
       "Manual       511\n",
       "Automatic    489\n",
       "Name: count, dtype: int64"
      ]
     },
     "execution_count": 2,
     "metadata": {},
     "output_type": "execute_result"
    }
   ],
   "source": [
    "df['Transmission'].value_counts()"
   ]
  },
  {
   "cell_type": "code",
   "execution_count": 6,
   "id": "df057f70",
   "metadata": {},
   "outputs": [
    {
     "data": {
      "text/plain": [
       "Price\n",
       "30246.207931    1\n",
       "22785.747684    1\n",
       "25760.290347    1\n",
       "25638.003491    1\n",
       "21021.386657    1\n",
       "               ..\n",
       "22765.597091    1\n",
       "30392.575567    1\n",
       "16446.892292    1\n",
       "27396.156708    1\n",
       "31620.864907    1\n",
       "Name: count, Length: 1000, dtype: int64"
      ]
     },
     "execution_count": 6,
     "metadata": {},
     "output_type": "execute_result"
    }
   ],
   "source": [
    "df['Price'].value_counts()"
   ]
  },
  {
   "cell_type": "code",
   "execution_count": 8,
   "id": "299169e8",
   "metadata": {},
   "outputs": [
    {
     "data": {
      "text/plain": [
       "np.int64(0)"
      ]
     },
     "execution_count": 8,
     "metadata": {},
     "output_type": "execute_result"
    }
   ],
   "source": [
    "df['Price'].isna().sum()"
   ]
  }
 ],
 "metadata": {
  "kernelspec": {
   "display_name": "Python (Clases AYI)",
   "language": "python",
   "name": "clases-ayi"
  },
  "language_info": {
   "codemirror_mode": {
    "name": "ipython",
    "version": 3
   },
   "file_extension": ".py",
   "mimetype": "text/x-python",
   "name": "python",
   "nbconvert_exporter": "python",
   "pygments_lexer": "ipython3",
   "version": "3.13.2"
  }
 },
 "nbformat": 4,
 "nbformat_minor": 5
}
