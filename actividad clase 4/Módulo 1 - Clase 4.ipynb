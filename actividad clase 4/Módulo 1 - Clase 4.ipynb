{
 "cells": [
  {
   "cell_type": "markdown",
   "id": "4c442ae4",
   "metadata": {},
   "source": [
    "# 📊 Análisis Numérico con NumPy aplicado a datos de ventas\n",
    "\n",
    "En este notebook vamos a aplicar **conceptos fundamentales de NumPy** para explorar un conjunto de datos de ventas de productos en distintas tiendas.\n",
    "\n",
    "El objetivo es practicar la manipulación de arrays, operaciones vectorizadas, filtrado, estadísticas básicas y álgebra lineal, usando datos reales.\n",
    "\n",
    "---\n",
    "\n",
    "## 📁 Descripción del dataset (`market.csv`)\n",
    "\n",
    "Este conjunto de datos contiene información sobre productos, tiendas y ventas. A continuación se describen las variables principales:\n",
    "\n",
    "| Variable | Descripción |\n",
    "|----------|-------------|\n",
    "| `Item_Identifier` | ID del producto |\n",
    "| `Item_Weight` | Peso del producto |\n",
    "| `Item_Fat_Content` | Contenido de grasa del producto (Low Fat / Regular) |\n",
    "| `Item_Visibility` | Porcentaje de visibilidad del producto en el total del área de exhibición |\n",
    "| `Item_Type` | Categoría del producto (Dairy, Soft Drinks, etc.) |\n",
    "| `Item_MRP` | Precio de venta al público máximo |\n",
    "| `Outlet_Identifier` | ID de la tienda |\n",
    "| `Outlet_Establishment_Year` | Año de apertura de la tienda |\n",
    "| `Outlet_Size` | Tamaño de la tienda |\n",
    "| `Outlet_Location_Type` | Tipo de ciudad donde se ubica la tienda |\n",
    "| `Outlet_Type` | Tipo de tienda |\n",
    "| `Item_Outlet_Sales` | Ventas del producto en esa tienda |\n",
    "\n",
    "---\n"
   ]
  },
  {
   "cell_type": "code",
   "execution_count": 1,
   "id": "bf2e319c",
   "metadata": {},
   "outputs": [
    {
     "data": {
      "text/html": [
       "<div>\n",
       "<style scoped>\n",
       "    .dataframe tbody tr th:only-of-type {\n",
       "        vertical-align: middle;\n",
       "    }\n",
       "\n",
       "    .dataframe tbody tr th {\n",
       "        vertical-align: top;\n",
       "    }\n",
       "\n",
       "    .dataframe thead th {\n",
       "        text-align: right;\n",
       "    }\n",
       "</style>\n",
       "<table border=\"1\" class=\"dataframe\">\n",
       "  <thead>\n",
       "    <tr style=\"text-align: right;\">\n",
       "      <th></th>\n",
       "      <th>Item_Identifier</th>\n",
       "      <th>Item_Weight</th>\n",
       "      <th>Item_Fat_Content</th>\n",
       "      <th>Item_Visibility</th>\n",
       "      <th>Item_Type</th>\n",
       "      <th>Item_MRP</th>\n",
       "      <th>Outlet_Identifier</th>\n",
       "      <th>Outlet_Establishment_Year</th>\n",
       "      <th>Outlet_Size</th>\n",
       "      <th>Outlet_Location_Type</th>\n",
       "      <th>Outlet_Type</th>\n",
       "      <th>Item_Outlet_Sales</th>\n",
       "    </tr>\n",
       "  </thead>\n",
       "  <tbody>\n",
       "    <tr>\n",
       "      <th>0</th>\n",
       "      <td>FDA15</td>\n",
       "      <td>9.30</td>\n",
       "      <td>Low Fat</td>\n",
       "      <td>0.016047</td>\n",
       "      <td>Dairy</td>\n",
       "      <td>249.8092</td>\n",
       "      <td>OUT049</td>\n",
       "      <td>1999</td>\n",
       "      <td>Medium</td>\n",
       "      <td>Tier 1</td>\n",
       "      <td>Supermarket Type1</td>\n",
       "      <td>3735.1380</td>\n",
       "    </tr>\n",
       "    <tr>\n",
       "      <th>1</th>\n",
       "      <td>DRC01</td>\n",
       "      <td>5.92</td>\n",
       "      <td>Regular</td>\n",
       "      <td>0.019278</td>\n",
       "      <td>Soft Drinks</td>\n",
       "      <td>48.2692</td>\n",
       "      <td>OUT018</td>\n",
       "      <td>2009</td>\n",
       "      <td>Medium</td>\n",
       "      <td>Tier 3</td>\n",
       "      <td>Supermarket Type2</td>\n",
       "      <td>443.4228</td>\n",
       "    </tr>\n",
       "    <tr>\n",
       "      <th>2</th>\n",
       "      <td>FDN15</td>\n",
       "      <td>17.50</td>\n",
       "      <td>Low Fat</td>\n",
       "      <td>0.016760</td>\n",
       "      <td>Meat</td>\n",
       "      <td>141.6180</td>\n",
       "      <td>OUT049</td>\n",
       "      <td>1999</td>\n",
       "      <td>Medium</td>\n",
       "      <td>Tier 1</td>\n",
       "      <td>Supermarket Type1</td>\n",
       "      <td>2097.2700</td>\n",
       "    </tr>\n",
       "    <tr>\n",
       "      <th>3</th>\n",
       "      <td>FDX07</td>\n",
       "      <td>19.20</td>\n",
       "      <td>Regular</td>\n",
       "      <td>0.000000</td>\n",
       "      <td>Fruits and Vegetables</td>\n",
       "      <td>182.0950</td>\n",
       "      <td>OUT010</td>\n",
       "      <td>1998</td>\n",
       "      <td>NaN</td>\n",
       "      <td>Tier 3</td>\n",
       "      <td>Grocery Store</td>\n",
       "      <td>732.3800</td>\n",
       "    </tr>\n",
       "    <tr>\n",
       "      <th>4</th>\n",
       "      <td>NCD19</td>\n",
       "      <td>8.93</td>\n",
       "      <td>Low Fat</td>\n",
       "      <td>0.000000</td>\n",
       "      <td>Household</td>\n",
       "      <td>53.8614</td>\n",
       "      <td>OUT013</td>\n",
       "      <td>1987</td>\n",
       "      <td>High</td>\n",
       "      <td>Tier 3</td>\n",
       "      <td>Supermarket Type1</td>\n",
       "      <td>994.7052</td>\n",
       "    </tr>\n",
       "  </tbody>\n",
       "</table>\n",
       "</div>"
      ],
      "text/plain": [
       "  Item_Identifier  Item_Weight Item_Fat_Content  Item_Visibility  \\\n",
       "0           FDA15         9.30          Low Fat         0.016047   \n",
       "1           DRC01         5.92          Regular         0.019278   \n",
       "2           FDN15        17.50          Low Fat         0.016760   \n",
       "3           FDX07        19.20          Regular         0.000000   \n",
       "4           NCD19         8.93          Low Fat         0.000000   \n",
       "\n",
       "               Item_Type  Item_MRP Outlet_Identifier  \\\n",
       "0                  Dairy  249.8092            OUT049   \n",
       "1            Soft Drinks   48.2692            OUT018   \n",
       "2                   Meat  141.6180            OUT049   \n",
       "3  Fruits and Vegetables  182.0950            OUT010   \n",
       "4              Household   53.8614            OUT013   \n",
       "\n",
       "   Outlet_Establishment_Year Outlet_Size Outlet_Location_Type  \\\n",
       "0                       1999      Medium               Tier 1   \n",
       "1                       2009      Medium               Tier 3   \n",
       "2                       1999      Medium               Tier 1   \n",
       "3                       1998         NaN               Tier 3   \n",
       "4                       1987        High               Tier 3   \n",
       "\n",
       "         Outlet_Type  Item_Outlet_Sales  \n",
       "0  Supermarket Type1          3735.1380  \n",
       "1  Supermarket Type2           443.4228  \n",
       "2  Supermarket Type1          2097.2700  \n",
       "3      Grocery Store           732.3800  \n",
       "4  Supermarket Type1           994.7052  "
      ]
     },
     "execution_count": 1,
     "metadata": {},
     "output_type": "execute_result"
    }
   ],
   "source": [
    "import numpy as np\n",
    "import pandas as pd\n",
    "\n",
    "# Cargar el dataset\n",
    "df = pd.read_csv(\"market.csv\")\n",
    "\n",
    "# Visualizar primeras filas\n",
    "df.head()"
   ]
  },
  {
   "cell_type": "markdown",
   "id": "2743e557",
   "metadata": {},
   "source": [
    "## 🔢 Conversión a arrays NumPy"
   ]
  },
  {
   "cell_type": "code",
   "execution_count": 2,
   "id": "ae3b700a",
   "metadata": {},
   "outputs": [
    {
     "name": "stdout",
     "output_type": "stream",
     "text": [
      "Pesos: (8523,) float64\n",
      "Ventas: (8523,) float64\n"
     ]
    }
   ],
   "source": [
    "# Convertir columnas numéricas a arrays\n",
    "pesos = df[\"Item_Weight\"].to_numpy()\n",
    "ventas = df[\"Item_Outlet_Sales\"].to_numpy()\n",
    "precios = df[\"Item_MRP\"].to_numpy()\n",
    "visibilidad = df[\"Item_Visibility\"].to_numpy()\n",
    "\n",
    "# Mostrar dimensiones y tipos\n",
    "print(\"Pesos:\", pesos.shape, pesos.dtype)\n",
    "print(\"Ventas:\", ventas.shape, ventas.dtype)"
   ]
  },
  {
   "cell_type": "markdown",
   "id": "553cccab",
   "metadata": {},
   "source": [
    "## 📈 Estadísticas básicas con NumPy"
   ]
  },
  {
   "cell_type": "code",
   "execution_count": 3,
   "id": "cfc9e0d5",
   "metadata": {},
   "outputs": [
    {
     "name": "stdout",
     "output_type": "stream",
     "text": [
      "Peso promedio: 12.857645184135977\n",
      "Desvío estándar de ventas: 1706.3995013565952\n",
      "Precio máximo: 266.8884\n",
      "Visibilidad mínima: 0.0\n"
     ]
    }
   ],
   "source": [
    "print(\"Peso promedio:\", np.nanmean(pesos))\n",
    "print(\"Desvío estándar de ventas:\", np.std(ventas))\n",
    "print(\"Precio máximo:\", np.max(precios))\n",
    "print(\"Visibilidad mínima:\", np.min(visibilidad))"
   ]
  },
  {
   "cell_type": "markdown",
   "id": "02c1da31",
   "metadata": {},
   "source": [
    "## 🔍 Filtrado de datos con condiciones"
   ]
  },
  {
   "cell_type": "code",
   "execution_count": 4,
   "id": "d42c0620",
   "metadata": {},
   "outputs": [
    {
     "name": "stdout",
     "output_type": "stream",
     "text": [
      "Productos con peso > 15kg: 2613\n",
      "Ventas por encima del promedio: 3523\n"
     ]
    }
   ],
   "source": [
    "# Productos con peso mayor a 15 kg\n",
    "pesados = pesos[pesos > 15]\n",
    "print(\"Productos con peso > 15kg:\", pesados.shape[0])\n",
    "\n",
    "# Ventas mayores a la media\n",
    "media_ventas = np.mean(ventas)\n",
    "ventas_altas = ventas[ventas > media_ventas]\n",
    "print(\"Ventas por encima del promedio:\", ventas_altas.shape[0])"
   ]
  },
  {
   "cell_type": "markdown",
   "id": "13c352df",
   "metadata": {},
   "source": [
    "## ⚙️ Operaciones vectorizadas"
   ]
  },
  {
   "cell_type": "code",
   "execution_count": 5,
   "id": "21350c35",
   "metadata": {},
   "outputs": [
    {
     "name": "stdout",
     "output_type": "stream",
     "text": [
      "Precio por kilo (primeros 5): [26.8612043   8.15358108  8.09245714  9.48411458  6.03151176]\n"
     ]
    }
   ],
   "source": [
    "# Precio por kilo estimado\n",
    "precio_x_kg = precios / pesos\n",
    "print(\"Precio por kilo (primeros 5):\", precio_x_kg[:5])"
   ]
  },
  {
   "cell_type": "markdown",
   "id": "d5f88037",
   "metadata": {},
   "source": [
    "## ➕ Álgebra matricial con NumPy"
   ]
  },
  {
   "cell_type": "code",
   "execution_count": 6,
   "id": "0386797b",
   "metadata": {},
   "outputs": [
    {
     "data": {
      "text/plain": [
       "array([[2.33314993e+06, 3.57611804e+07],\n",
       "       [3.57611804e+07, 6.98390172e+08]])"
      ]
     },
     "execution_count": 6,
     "metadata": {},
     "output_type": "execute_result"
    }
   ],
   "source": [
    "# Crear matriz de dos variables\n",
    "matriz = np.vstack((precios[:100], ventas[:100]))  # 2x100\n",
    "matriz_t = matriz.T  # 100x2\n",
    "\n",
    "# Producto matricial (covarianza básica)\n",
    "producto = matriz @ matriz_t  # 2x2\n",
    "producto"
   ]
  },
  {
   "cell_type": "markdown",
   "id": "f89a68e0",
   "metadata": {},
   "source": [
    "## 🧠 Desafíos propuestos\n",
    "\n",
    "1. Calcular la mediana del peso de los productos usando NumPy.\n",
    "2. ¿Cuál es el valor más frecuente (moda) de `Item_Weight`?\n",
    "3. Filtrar los productos que tengan un precio mayor a $250 y visibilidad menor al 0.02.\n",
    "4. Crear un array que contenga la diferencia entre el precio y las ventas para los primeros 500 productos.\n",
    "5. Normalizar los valores de visibilidad entre 0 y 1.\n",
    "6. Crear una matriz de 3 columnas: peso, precio y ventas, y calcular su media por columna.\n",
    "7. ¿Qué productos tienen un valor de peso faltante (`NaN`)? ¿Cuántos hay?\n",
    "8. Simular 100 precios aleatorios con `np.random.normal()` con media 200 y desvío 30.\n",
    "9. Calcular la correlación entre precios y ventas (usando `np.corrcoef`).\n",
    "10. Guardar un nuevo array con los precios redondeados a 2 decimales.\n",
    "\n",
    "💡 Tip: ¡Usá funciones como `np.isnan`, `np.round`, `np.corrcoef`, `np.nanmean`, `np.unique`!\n"
   ]
  }
 ],
 "metadata": {
  "kernelspec": {
   "display_name": "Python (Clases AYI)",
   "language": "python",
   "name": "clases-ayi"
  },
  "language_info": {
   "codemirror_mode": {
    "name": "ipython",
    "version": 3
   },
   "file_extension": ".py",
   "mimetype": "text/x-python",
   "name": "python",
   "nbconvert_exporter": "python",
   "pygments_lexer": "ipython3",
   "version": "3.13.2"
  }
 },
 "nbformat": 4,
 "nbformat_minor": 5
}
