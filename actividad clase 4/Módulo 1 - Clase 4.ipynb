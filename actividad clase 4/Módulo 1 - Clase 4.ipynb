{
 "cells": [
  {
   "cell_type": "markdown",
   "id": "4c442ae4",
   "metadata": {},
   "source": [
    "# 📊 Análisis Numérico con NumPy aplicado a datos de ventas\n",
    "\n",
    "En este notebook vamos a aplicar **conceptos fundamentales de NumPy** para explorar un conjunto de datos de ventas de productos en distintas tiendas.\n",
    "\n",
    "El objetivo es practicar la manipulación de arrays, operaciones vectorizadas, filtrado, estadísticas básicas y álgebra lineal, usando datos reales.\n",
    "\n",
    "---\n",
    "\n",
    "## 📁 Descripción del dataset (`market.csv`)\n",
    "\n",
    "Este conjunto de datos contiene información sobre productos, tiendas y ventas. A continuación se describen las variables principales:\n",
    "\n",
    "| Variable | Descripción |\n",
    "|----------|-------------|\n",
    "| `Item_Identifier` | ID del producto |\n",
    "| `Item_Weight` | Peso del producto |\n",
    "| `Item_Fat_Content` | Contenido de grasa del producto (Low Fat / Regular) |\n",
    "| `Item_Visibility` | Porcentaje de visibilidad del producto en el total del área de exhibición |\n",
    "| `Item_Type` | Categoría del producto (Dairy, Soft Drinks, etc.) |\n",
    "| `Item_MRP` | Precio de venta al público máximo |\n",
    "| `Outlet_Identifier` | ID de la tienda |\n",
    "| `Outlet_Establishment_Year` | Año de apertura de la tienda |\n",
    "| `Outlet_Size` | Tamaño de la tienda |\n",
    "| `Outlet_Location_Type` | Tipo de ciudad donde se ubica la tienda |\n",
    "| `Outlet_Type` | Tipo de tienda |\n",
    "| `Item_Outlet_Sales` | Ventas del producto en esa tienda |\n",
    "\n",
    "---\n"
   ]
  },
  {
   "cell_type": "code",
   "execution_count": 59,
   "id": "bf2e319c",
   "metadata": {},
   "outputs": [
    {
     "data": {
      "text/html": [
       "<div>\n",
       "<style scoped>\n",
       "    .dataframe tbody tr th:only-of-type {\n",
       "        vertical-align: middle;\n",
       "    }\n",
       "\n",
       "    .dataframe tbody tr th {\n",
       "        vertical-align: top;\n",
       "    }\n",
       "\n",
       "    .dataframe thead th {\n",
       "        text-align: right;\n",
       "    }\n",
       "</style>\n",
       "<table border=\"1\" class=\"dataframe\">\n",
       "  <thead>\n",
       "    <tr style=\"text-align: right;\">\n",
       "      <th></th>\n",
       "      <th>Item_Identifier</th>\n",
       "      <th>Item_Weight</th>\n",
       "      <th>Item_Fat_Content</th>\n",
       "      <th>Item_Visibility</th>\n",
       "      <th>Item_Type</th>\n",
       "      <th>Item_MRP</th>\n",
       "      <th>Outlet_Identifier</th>\n",
       "      <th>Outlet_Establishment_Year</th>\n",
       "      <th>Outlet_Size</th>\n",
       "      <th>Outlet_Location_Type</th>\n",
       "      <th>Outlet_Type</th>\n",
       "      <th>Item_Outlet_Sales</th>\n",
       "    </tr>\n",
       "  </thead>\n",
       "  <tbody>\n",
       "    <tr>\n",
       "      <th>0</th>\n",
       "      <td>FDA15</td>\n",
       "      <td>9.30</td>\n",
       "      <td>Low Fat</td>\n",
       "      <td>0.016047</td>\n",
       "      <td>Dairy</td>\n",
       "      <td>249.8092</td>\n",
       "      <td>OUT049</td>\n",
       "      <td>1999</td>\n",
       "      <td>Medium</td>\n",
       "      <td>Tier 1</td>\n",
       "      <td>Supermarket Type1</td>\n",
       "      <td>3735.1380</td>\n",
       "    </tr>\n",
       "    <tr>\n",
       "      <th>1</th>\n",
       "      <td>DRC01</td>\n",
       "      <td>5.92</td>\n",
       "      <td>Regular</td>\n",
       "      <td>0.019278</td>\n",
       "      <td>Soft Drinks</td>\n",
       "      <td>48.2692</td>\n",
       "      <td>OUT018</td>\n",
       "      <td>2009</td>\n",
       "      <td>Medium</td>\n",
       "      <td>Tier 3</td>\n",
       "      <td>Supermarket Type2</td>\n",
       "      <td>443.4228</td>\n",
       "    </tr>\n",
       "    <tr>\n",
       "      <th>2</th>\n",
       "      <td>FDN15</td>\n",
       "      <td>17.50</td>\n",
       "      <td>Low Fat</td>\n",
       "      <td>0.016760</td>\n",
       "      <td>Meat</td>\n",
       "      <td>141.6180</td>\n",
       "      <td>OUT049</td>\n",
       "      <td>1999</td>\n",
       "      <td>Medium</td>\n",
       "      <td>Tier 1</td>\n",
       "      <td>Supermarket Type1</td>\n",
       "      <td>2097.2700</td>\n",
       "    </tr>\n",
       "    <tr>\n",
       "      <th>3</th>\n",
       "      <td>FDX07</td>\n",
       "      <td>19.20</td>\n",
       "      <td>Regular</td>\n",
       "      <td>0.000000</td>\n",
       "      <td>Fruits and Vegetables</td>\n",
       "      <td>182.0950</td>\n",
       "      <td>OUT010</td>\n",
       "      <td>1998</td>\n",
       "      <td>NaN</td>\n",
       "      <td>Tier 3</td>\n",
       "      <td>Grocery Store</td>\n",
       "      <td>732.3800</td>\n",
       "    </tr>\n",
       "    <tr>\n",
       "      <th>4</th>\n",
       "      <td>NCD19</td>\n",
       "      <td>8.93</td>\n",
       "      <td>Low Fat</td>\n",
       "      <td>0.000000</td>\n",
       "      <td>Household</td>\n",
       "      <td>53.8614</td>\n",
       "      <td>OUT013</td>\n",
       "      <td>1987</td>\n",
       "      <td>High</td>\n",
       "      <td>Tier 3</td>\n",
       "      <td>Supermarket Type1</td>\n",
       "      <td>994.7052</td>\n",
       "    </tr>\n",
       "  </tbody>\n",
       "</table>\n",
       "</div>"
      ],
      "text/plain": [
       "  Item_Identifier  Item_Weight Item_Fat_Content  Item_Visibility  \\\n",
       "0           FDA15         9.30          Low Fat         0.016047   \n",
       "1           DRC01         5.92          Regular         0.019278   \n",
       "2           FDN15        17.50          Low Fat         0.016760   \n",
       "3           FDX07        19.20          Regular         0.000000   \n",
       "4           NCD19         8.93          Low Fat         0.000000   \n",
       "\n",
       "               Item_Type  Item_MRP Outlet_Identifier  \\\n",
       "0                  Dairy  249.8092            OUT049   \n",
       "1            Soft Drinks   48.2692            OUT018   \n",
       "2                   Meat  141.6180            OUT049   \n",
       "3  Fruits and Vegetables  182.0950            OUT010   \n",
       "4              Household   53.8614            OUT013   \n",
       "\n",
       "   Outlet_Establishment_Year Outlet_Size Outlet_Location_Type  \\\n",
       "0                       1999      Medium               Tier 1   \n",
       "1                       2009      Medium               Tier 3   \n",
       "2                       1999      Medium               Tier 1   \n",
       "3                       1998         NaN               Tier 3   \n",
       "4                       1987        High               Tier 3   \n",
       "\n",
       "         Outlet_Type  Item_Outlet_Sales  \n",
       "0  Supermarket Type1          3735.1380  \n",
       "1  Supermarket Type2           443.4228  \n",
       "2  Supermarket Type1          2097.2700  \n",
       "3      Grocery Store           732.3800  \n",
       "4  Supermarket Type1           994.7052  "
      ]
     },
     "execution_count": 59,
     "metadata": {},
     "output_type": "execute_result"
    }
   ],
   "source": [
    "import numpy as np\n",
    "import pandas as pd\n",
    "\n",
    "# Cargar el dataset\n",
    "df = pd.read_csv(\"market.csv\")\n",
    "\n",
    "# Visualizar primeras filas\n",
    "df.head()"
   ]
  },
  {
   "cell_type": "code",
   "execution_count": 60,
   "id": "bd3d84e6",
   "metadata": {},
   "outputs": [
    {
     "name": "stdout",
     "output_type": "stream",
     "text": [
      "<class 'pandas.core.frame.DataFrame'>\n",
      "RangeIndex: 8523 entries, 0 to 8522\n",
      "Data columns (total 12 columns):\n",
      " #   Column                     Non-Null Count  Dtype  \n",
      "---  ------                     --------------  -----  \n",
      " 0   Item_Identifier            8523 non-null   object \n",
      " 1   Item_Weight                7060 non-null   float64\n",
      " 2   Item_Fat_Content           8523 non-null   object \n",
      " 3   Item_Visibility            8523 non-null   float64\n",
      " 4   Item_Type                  8523 non-null   object \n",
      " 5   Item_MRP                   8523 non-null   float64\n",
      " 6   Outlet_Identifier          8523 non-null   object \n",
      " 7   Outlet_Establishment_Year  8523 non-null   int64  \n",
      " 8   Outlet_Size                6113 non-null   object \n",
      " 9   Outlet_Location_Type       8523 non-null   object \n",
      " 10  Outlet_Type                8523 non-null   object \n",
      " 11  Item_Outlet_Sales          8523 non-null   float64\n",
      "dtypes: float64(4), int64(1), object(7)\n",
      "memory usage: 799.2+ KB\n"
     ]
    }
   ],
   "source": [
    "df.info()"
   ]
  },
  {
   "cell_type": "markdown",
   "id": "2743e557",
   "metadata": {},
   "source": [
    "## 🔢 Conversión a arrays NumPy"
   ]
  },
  {
   "cell_type": "code",
   "execution_count": 61,
   "id": "ae3b700a",
   "metadata": {},
   "outputs": [
    {
     "name": "stdout",
     "output_type": "stream",
     "text": [
      "Pesos: (8523,) float64\n",
      "Ventas: (8523,) float64\n"
     ]
    }
   ],
   "source": [
    "# Convertir columnas numéricas a arrays\n",
    "pesos = df[\"Item_Weight\"].to_numpy()\n",
    "ventas = df[\"Item_Outlet_Sales\"].to_numpy()\n",
    "precios = df[\"Item_MRP\"].to_numpy()\n",
    "visibilidad = df[\"Item_Visibility\"].to_numpy()\n",
    "\n",
    "# Mostrar dimensiones y tipos\n",
    "print(\"Pesos:\", pesos.shape, pesos.dtype)\n",
    "print(\"Ventas:\", ventas.shape, ventas.dtype)"
   ]
  },
  {
   "cell_type": "markdown",
   "id": "553cccab",
   "metadata": {},
   "source": [
    "## 📈 Estadísticas básicas con NumPy"
   ]
  },
  {
   "cell_type": "code",
   "execution_count": 62,
   "id": "cfc9e0d5",
   "metadata": {},
   "outputs": [
    {
     "name": "stdout",
     "output_type": "stream",
     "text": [
      "Peso promedio: 12.857645184135977\n",
      "Desvío estándar de ventas: 1706.3995013565952\n",
      "Precio máximo: 266.8884\n",
      "Visibilidad mínima: 0.0\n"
     ]
    }
   ],
   "source": [
    "print(\"Peso promedio:\", np.nanmean(pesos))\n",
    "print(\"Desvío estándar de ventas:\", np.std(ventas))\n",
    "print(\"Precio máximo:\", np.max(precios))\n",
    "print(\"Visibilidad mínima:\", np.min(visibilidad))"
   ]
  },
  {
   "cell_type": "markdown",
   "id": "02c1da31",
   "metadata": {},
   "source": [
    "## 🔍 Filtrado de datos con condiciones"
   ]
  },
  {
   "cell_type": "code",
   "execution_count": 63,
   "id": "d42c0620",
   "metadata": {},
   "outputs": [
    {
     "name": "stdout",
     "output_type": "stream",
     "text": [
      "Productos con peso > 15kg: 2613\n",
      "Ventas por encima del promedio: 3523\n"
     ]
    }
   ],
   "source": [
    "# Productos con peso mayor a 15 kg\n",
    "pesados = pesos[pesos > 15]\n",
    "print(\"Productos con peso > 15kg:\", pesados.shape[0])\n",
    "\n",
    "# Ventas mayores a la media\n",
    "media_ventas = np.mean(ventas)\n",
    "ventas_altas = ventas[ventas > media_ventas]\n",
    "print(\"Ventas por encima del promedio:\", ventas_altas.shape[0])"
   ]
  },
  {
   "cell_type": "markdown",
   "id": "13c352df",
   "metadata": {},
   "source": [
    "## ⚙️ Operaciones vectorizadas"
   ]
  },
  {
   "cell_type": "code",
   "execution_count": 64,
   "id": "21350c35",
   "metadata": {},
   "outputs": [
    {
     "name": "stdout",
     "output_type": "stream",
     "text": [
      "Precio por kilo (primeros 5): [26.8612043   8.15358108  8.09245714  9.48411458  6.03151176]\n"
     ]
    }
   ],
   "source": [
    "# Precio por kilo estimado\n",
    "precio_x_kg = precios / pesos\n",
    "print(\"Precio por kilo (primeros 5):\", precio_x_kg[:5])"
   ]
  },
  {
   "cell_type": "markdown",
   "id": "d5f88037",
   "metadata": {},
   "source": [
    "## ➕ Álgebra matricial con NumPy"
   ]
  },
  {
   "cell_type": "code",
   "execution_count": 65,
   "id": "0386797b",
   "metadata": {},
   "outputs": [
    {
     "data": {
      "text/plain": [
       "array([[2.33314993e+06, 3.57611804e+07],\n",
       "       [3.57611804e+07, 6.98390172e+08]])"
      ]
     },
     "execution_count": 65,
     "metadata": {},
     "output_type": "execute_result"
    }
   ],
   "source": [
    "# Crear matriz de dos variables\n",
    "matriz = np.vstack((precios[:100], ventas[:100]))  # 2x100\n",
    "matriz_t = matriz.T  # 100x2\n",
    "\n",
    "# Producto matricial (covarianza básica)\n",
    "producto = matriz @ matriz_t  # 2x2\n",
    "producto"
   ]
  },
  {
   "cell_type": "markdown",
   "id": "f89a68e0",
   "metadata": {},
   "source": [
    "## 🧠 Desafíos propuestos\n",
    "\n",
    "1. Calcular la mediana del peso de los productos usando NumPy.\n",
    "2. ¿Cuál es el valor más frecuente (moda) de `Item_Weight`?\n",
    "3. Filtrar los productos que tengan un precio mayor a $250 y visibilidad menor al 0.02.\n",
    "4. Crear un array que contenga la diferencia entre el precio y las ventas para los primeros 500 productos.\n",
    "5. Normalizar los valores de visibilidad entre 0 y 1.\n",
    "6. Crear una matriz de 3 columnas: peso, precio y ventas, y calcular su media por columna.\n",
    "7. ¿Qué productos tienen un valor de peso faltante (`NaN`)? ¿Cuántos hay?\n",
    "8. Simular 100 precios aleatorios con `np.random.normal()` con media 200 y desvío 30.\n",
    "9. Calcular la correlación entre precios y ventas (usando `np.corrcoef`).\n",
    "10. Guardar un nuevo array con los precios redondeados a 2 decimales.\n",
    "\n",
    "💡 Tip: ¡Usá funciones como `np.isnan`, `np.round`, `np.corrcoef`, `np.nanmean`, `np.unique`!\n"
   ]
  },
  {
   "cell_type": "markdown",
   "id": "2373ebec",
   "metadata": {},
   "source": [
    "1. Calcular la mediana del peso de los productos usando NumPy."
   ]
  },
  {
   "cell_type": "code",
   "execution_count": 66,
   "id": "ee01b421",
   "metadata": {},
   "outputs": [
    {
     "name": "stdout",
     "output_type": "stream",
     "text": [
      "Mediana del peso de los productos: 12.6\n"
     ]
    }
   ],
   "source": [
    "mediana_peso = np.nanmedian(pesos)\n",
    "print(f'Mediana del peso de los productos: {mediana_peso}')"
   ]
  },
  {
   "cell_type": "markdown",
   "id": "026320af",
   "metadata": {},
   "source": [
    "2. ¿Cuál es el valor más frecuente (moda) de `Item_Weight`?"
   ]
  },
  {
   "cell_type": "code",
   "execution_count": 67,
   "id": "ecf3a64e",
   "metadata": {},
   "outputs": [
    {
     "name": "stdout",
     "output_type": "stream",
     "text": [
      "Moda del peso de los productos: 12.15, con 86 ocurrencias\n"
     ]
    }
   ],
   "source": [
    "pesos_sin_nan = pesos[~np.isnan(pesos)]\n",
    "valores, cuentas = np.unique(pesos_sin_nan, return_counts=True)\n",
    "max_cuenta = np.max(cuentas)\n",
    "modas = valores[cuentas == max_cuenta]\n",
    "if len(modas) == 1:\n",
    "    print(f'Moda del peso de los productos: {modas[0]}, con {max_cuenta} ocurrencias')\n",
    "else:\n",
    "    print(f'Hay empate en la moda. Los valors mas frecuentes (cada uno con {max_cuenta} apariciones) son: ')\n",
    "    for moda in modas:\n",
    "        print(moda)"
   ]
  },
  {
   "cell_type": "markdown",
   "id": "9f3e3c7d",
   "metadata": {},
   "source": [
    "3. Filtrar los productos que tengan un precio mayor a $250 y visibilidad menor al 0.02."
   ]
  },
  {
   "cell_type": "code",
   "execution_count": 68,
   "id": "26125b13",
   "metadata": {},
   "outputs": [
    {
     "name": "stdout",
     "output_type": "stream",
     "text": [
      "Cantidad de productos que cumplen la condición: 60\n"
     ]
    },
    {
     "data": {
      "text/html": [
       "<div>\n",
       "<style scoped>\n",
       "    .dataframe tbody tr th:only-of-type {\n",
       "        vertical-align: middle;\n",
       "    }\n",
       "\n",
       "    .dataframe tbody tr th {\n",
       "        vertical-align: top;\n",
       "    }\n",
       "\n",
       "    .dataframe thead th {\n",
       "        text-align: right;\n",
       "    }\n",
       "</style>\n",
       "<table border=\"1\" class=\"dataframe\">\n",
       "  <thead>\n",
       "    <tr style=\"text-align: right;\">\n",
       "      <th></th>\n",
       "      <th>Item_Identifier</th>\n",
       "      <th>Item_Weight</th>\n",
       "      <th>Item_Fat_Content</th>\n",
       "      <th>Item_Visibility</th>\n",
       "      <th>Item_Type</th>\n",
       "      <th>Item_MRP</th>\n",
       "      <th>Outlet_Identifier</th>\n",
       "      <th>Outlet_Establishment_Year</th>\n",
       "      <th>Outlet_Size</th>\n",
       "      <th>Outlet_Location_Type</th>\n",
       "      <th>Outlet_Type</th>\n",
       "      <th>Item_Outlet_Sales</th>\n",
       "    </tr>\n",
       "  </thead>\n",
       "  <tbody>\n",
       "    <tr>\n",
       "      <th>32</th>\n",
       "      <td>FDP33</td>\n",
       "      <td>18.700</td>\n",
       "      <td>Low Fat</td>\n",
       "      <td>0.000000</td>\n",
       "      <td>Snack Foods</td>\n",
       "      <td>256.6672</td>\n",
       "      <td>OUT018</td>\n",
       "      <td>2009</td>\n",
       "      <td>Medium</td>\n",
       "      <td>Tier 3</td>\n",
       "      <td>Supermarket Type2</td>\n",
       "      <td>3068.0064</td>\n",
       "    </tr>\n",
       "    <tr>\n",
       "      <th>212</th>\n",
       "      <td>FDL58</td>\n",
       "      <td>5.780</td>\n",
       "      <td>Regular</td>\n",
       "      <td>0.000000</td>\n",
       "      <td>Snack Foods</td>\n",
       "      <td>263.7568</td>\n",
       "      <td>OUT017</td>\n",
       "      <td>2007</td>\n",
       "      <td>NaN</td>\n",
       "      <td>Tier 2</td>\n",
       "      <td>Supermarket Type1</td>\n",
       "      <td>2636.5680</td>\n",
       "    </tr>\n",
       "    <tr>\n",
       "      <th>273</th>\n",
       "      <td>FDK51</td>\n",
       "      <td>19.850</td>\n",
       "      <td>Low Fat</td>\n",
       "      <td>0.005234</td>\n",
       "      <td>Dairy</td>\n",
       "      <td>264.0884</td>\n",
       "      <td>OUT035</td>\n",
       "      <td>2004</td>\n",
       "      <td>Small</td>\n",
       "      <td>Tier 2</td>\n",
       "      <td>Supermarket Type1</td>\n",
       "      <td>5829.7448</td>\n",
       "    </tr>\n",
       "    <tr>\n",
       "      <th>278</th>\n",
       "      <td>FDK21</td>\n",
       "      <td>7.905</td>\n",
       "      <td>Low Fat</td>\n",
       "      <td>0.016759</td>\n",
       "      <td>Snack Foods</td>\n",
       "      <td>250.4408</td>\n",
       "      <td>OUT010</td>\n",
       "      <td>1998</td>\n",
       "      <td>NaN</td>\n",
       "      <td>Tier 3</td>\n",
       "      <td>Grocery Store</td>\n",
       "      <td>500.6816</td>\n",
       "    </tr>\n",
       "    <tr>\n",
       "      <th>423</th>\n",
       "      <td>FDA27</td>\n",
       "      <td>20.350</td>\n",
       "      <td>Regular</td>\n",
       "      <td>0.000000</td>\n",
       "      <td>Dairy</td>\n",
       "      <td>256.7672</td>\n",
       "      <td>OUT018</td>\n",
       "      <td>2009</td>\n",
       "      <td>Medium</td>\n",
       "      <td>Tier 3</td>\n",
       "      <td>Supermarket Type2</td>\n",
       "      <td>5624.6784</td>\n",
       "    </tr>\n",
       "  </tbody>\n",
       "</table>\n",
       "</div>"
      ],
      "text/plain": [
       "    Item_Identifier  Item_Weight Item_Fat_Content  Item_Visibility  \\\n",
       "32            FDP33       18.700          Low Fat         0.000000   \n",
       "212           FDL58        5.780          Regular         0.000000   \n",
       "273           FDK51       19.850          Low Fat         0.005234   \n",
       "278           FDK21        7.905          Low Fat         0.016759   \n",
       "423           FDA27       20.350          Regular         0.000000   \n",
       "\n",
       "       Item_Type  Item_MRP Outlet_Identifier  Outlet_Establishment_Year  \\\n",
       "32   Snack Foods  256.6672            OUT018                       2009   \n",
       "212  Snack Foods  263.7568            OUT017                       2007   \n",
       "273        Dairy  264.0884            OUT035                       2004   \n",
       "278  Snack Foods  250.4408            OUT010                       1998   \n",
       "423        Dairy  256.7672            OUT018                       2009   \n",
       "\n",
       "    Outlet_Size Outlet_Location_Type        Outlet_Type  Item_Outlet_Sales  \n",
       "32       Medium               Tier 3  Supermarket Type2          3068.0064  \n",
       "212         NaN               Tier 2  Supermarket Type1          2636.5680  \n",
       "273       Small               Tier 2  Supermarket Type1          5829.7448  \n",
       "278         NaN               Tier 3      Grocery Store           500.6816  \n",
       "423      Medium               Tier 3  Supermarket Type2          5624.6784  "
      ]
     },
     "execution_count": 68,
     "metadata": {},
     "output_type": "execute_result"
    }
   ],
   "source": [
    "filtro = (precios > 250) & (visibilidad < 0.02)\n",
    "productos_filtrados = df[filtro]\n",
    "productos_filtrados\n",
    "print(f'Cantidad de productos que cumplen la condición: {productos_filtrados.shape[0]}')\n",
    "productos_filtrados.head()"
   ]
  },
  {
   "cell_type": "markdown",
   "id": "7bbeed34",
   "metadata": {},
   "source": [
    "4. Crear un array que contenga la diferencia entre el precio y las ventas para los primeros 500 productos."
   ]
  },
  {
   "cell_type": "code",
   "execution_count": 69,
   "id": "65e05d3c",
   "metadata": {},
   "outputs": [
    {
     "name": "stdout",
     "output_type": "stream",
     "text": [
      "Diferencia entre precio y ventas (primeros 5):\n",
      "[-3485.3288  -395.1536 -1955.652   -550.285   -940.8438]\n"
     ]
    }
   ],
   "source": [
    "diferencia_precio_ventas = precios[:500] - ventas[:500]\n",
    "print(f'Diferencia entre precio y ventas (primeros 5):\\n{diferencia_precio_ventas[:5]}')"
   ]
  },
  {
   "cell_type": "markdown",
   "id": "cd23b908",
   "metadata": {},
   "source": [
    "5. Normalizar los valores de visibilidad entre 0 y 1."
   ]
  },
  {
   "cell_type": "code",
   "execution_count": 70,
   "id": "c889ffa7",
   "metadata": {},
   "outputs": [
    {
     "name": "stdout",
     "output_type": "stream",
     "text": [
      "Visibilidad normalizada (primeros 10):\n",
      "[0.04886645 0.05870508 0.05103696 0.         0.         0.\n",
      " 0.03879854 0.38816495 0.05081478 0.28761326]\n"
     ]
    }
   ],
   "source": [
    "visibilidad_min = np.nanmin(visibilidad)\n",
    "visibilidad_max = np.nanmax(visibilidad)\n",
    "visibilidad_normalizada = (visibilidad - visibilidad_min) / (visibilidad_max - visibilidad_min)\n",
    "print(f'Visibilidad normalizada (primeros 10):\\n{visibilidad_normalizada[:10]}')"
   ]
  },
  {
   "cell_type": "markdown",
   "id": "f5ca0862",
   "metadata": {},
   "source": [
    "6. Crear una matriz de 3 columnas: peso, precio y ventas, y calcular su media por columna."
   ]
  },
  {
   "cell_type": "code",
   "execution_count": 71,
   "id": "4aa81a1d",
   "metadata": {},
   "outputs": [
    {
     "name": "stdout",
     "output_type": "stream",
     "text": [
      "Media por columna (peso, precio, ventas):\n",
      "[  12.85764518  140.99278198 2181.28891358]\n"
     ]
    }
   ],
   "source": [
    "matriz = np.column_stack((pesos, precios, ventas))\n",
    "media_columnas = np.nanmean(matriz, axis=0)\n",
    "print(f'Media por columna (peso, precio, ventas):\\n{media_columnas}')"
   ]
  },
  {
   "cell_type": "markdown",
   "id": "50c23d15",
   "metadata": {},
   "source": [
    "7. ¿Qué productos tienen un valor de peso faltante (`NaN`)? ¿Cuántos hay?"
   ]
  },
  {
   "cell_type": "code",
   "execution_count": 76,
   "id": "4e12ab0f",
   "metadata": {},
   "outputs": [
    {
     "name": "stdout",
     "output_type": "stream",
     "text": [
      "Cantidad de productos con peso faltante (NaN):\n",
      "1463\n",
      "\n",
      "Índices de los productos con peso faltante:\n",
      "[   7   18   21 ... 8488 8490 8504]\n",
      "\n",
      "   Item_Identifier  Item_Weight Item_Fat_Content  Item_Visibility  \\\n",
      "7            FDP10          NaN          Low Fat         0.127470   \n",
      "18           DRI11          NaN          Low Fat         0.034238   \n",
      "21           FDW12          NaN          Regular         0.035400   \n",
      "23           FDC37          NaN          Low Fat         0.057557   \n",
      "29           FDC14          NaN          Regular         0.072222   \n",
      "\n",
      "       Item_Type  Item_MRP Outlet_Identifier  Outlet_Establishment_Year  \\\n",
      "7    Snack Foods  107.7622            OUT027                       1985   \n",
      "18   Hard Drinks  113.2834            OUT027                       1985   \n",
      "21  Baking Goods  144.5444            OUT027                       1985   \n",
      "23  Baking Goods  107.6938            OUT019                       1985   \n",
      "29        Canned   43.6454            OUT019                       1985   \n",
      "\n",
      "   Outlet_Size Outlet_Location_Type        Outlet_Type  Item_Outlet_Sales  \n",
      "7       Medium               Tier 3  Supermarket Type3          4022.7636  \n",
      "18      Medium               Tier 3  Supermarket Type3          2303.6680  \n",
      "21      Medium               Tier 3  Supermarket Type3          4064.0432  \n",
      "23       Small               Tier 1      Grocery Store           214.3876  \n",
      "29       Small               Tier 1      Grocery Store           125.8362  \n"
     ]
    }
   ],
   "source": [
    "faltantes_peso = np.isnan(pesos)\n",
    "print(f'Cantidad de productos con peso faltante (NaN):\\n{np.sum(faltantes_peso)}\\n')\n",
    "print(f'Índices de los productos con peso faltante:\\n{np.where(faltantes_peso)[0]}\\n')\n",
    "print(df[faltantes_peso].head())"
   ]
  },
  {
   "cell_type": "code",
   "execution_count": null,
   "id": "ffae3841",
   "metadata": {},
   "outputs": [],
   "source": []
  },
  {
   "cell_type": "markdown",
   "id": "6f6057d7",
   "metadata": {},
   "source": [
    "8. Simular 100 precios aleatorios con `np.random.normal()` con media 200 y desvío 30."
   ]
  },
  {
   "cell_type": "code",
   "execution_count": 81,
   "id": "5845ac80",
   "metadata": {},
   "outputs": [
    {
     "name": "stdout",
     "output_type": "stream",
     "text": [
      "Precios aleatorios simulados (primeros 10 con ):\n",
      "[143.92 121.13 191.38 247.73 212.59 233.87 249.41 196.77 172.77 206.39]\n"
     ]
    }
   ],
   "source": [
    "precios_aleatorios = np.random.normal(loc=200, scale=30, size=100)\n",
    "print(f'Precios aleatorios simulados (primeros 10 con ):\\n{np.round(precios_aleatorios[:10], 2)}')"
   ]
  },
  {
   "cell_type": "markdown",
   "id": "4ed5ce1a",
   "metadata": {},
   "source": [
    "9. Calcular la correlación entre precios y ventas (usando `np.corrcoef`)."
   ]
  },
  {
   "cell_type": "code",
   "execution_count": 84,
   "id": "bd7ee75e",
   "metadata": {},
   "outputs": [
    {
     "name": "stdout",
     "output_type": "stream",
     "text": [
      "Coeficiente de correlación entre precios y ventas:\n",
      "0.5676\n"
     ]
    }
   ],
   "source": [
    "matriz_correlacion = np.corrcoef(precios, ventas)\n",
    "coef_correlacion = matriz_correlacion[0, 1]\n",
    "print(f'Coeficiente de correlación entre precios y ventas:\\n{coef_correlacion:.4f}')"
   ]
  },
  {
   "cell_type": "markdown",
   "id": "8a974fed",
   "metadata": {},
   "source": [
    "10. Guardar un nuevo array con los precios redondeados a 2 decimales."
   ]
  },
  {
   "cell_type": "code",
   "execution_count": 86,
   "id": "81369e01",
   "metadata": {},
   "outputs": [
    {
     "name": "stdout",
     "output_type": "stream",
     "text": [
      "Precios redondeados (primeros 10):\n",
      "[249.81  48.27 141.62 182.1   53.86  51.4   57.66 107.76  96.97 187.82]\n"
     ]
    }
   ],
   "source": [
    "precios_redondeados = np.round(precios, 2)\n",
    "print(f'Precios redondeados (primeros 10):\\n{precios_redondeados[:10]}')"
   ]
  }
 ],
 "metadata": {
  "kernelspec": {
   "display_name": "Python (Clases AYI)",
   "language": "python",
   "name": "clases-ayi"
  },
  "language_info": {
   "codemirror_mode": {
    "name": "ipython",
    "version": 3
   },
   "file_extension": ".py",
   "mimetype": "text/x-python",
   "name": "python",
   "nbconvert_exporter": "python",
   "pygments_lexer": "ipython3",
   "version": "3.13.2"
  }
 },
 "nbformat": 4,
 "nbformat_minor": 5
}
